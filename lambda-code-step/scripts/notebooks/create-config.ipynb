{
 "cells": [
  {
   "cell_type": "code",
   "execution_count": 3,
   "metadata": {},
   "outputs": [],
   "source": [
    "import json"
   ]
  },
  {
   "cell_type": "code",
   "execution_count": 4,
   "metadata": {},
   "outputs": [],
   "source": [
    "version=\"step-v2\""
   ]
  },
  {
   "cell_type": "code",
   "execution_count": 7,
   "metadata": {},
   "outputs": [],
   "source": [
    "# Pipeline with Scaledown\n",
    "stages_id = [\"scaledown\", \"crop\", \"mirrorx\", \"mirrory\", \"bw\", \"rotate\", \"watermark\"]\n",
    "stages_suffix = [\"resized\", \"cropped\", \"mirrorx\", \"mirrory\", \"bw\", \"rot\", \"watermarked\"]\n",
    "\n",
    "# Pipeline without Scaledown\n",
    "stages_id = [\"crop\", \"mirrorx\", \"mirrory\", \"bw\", \"rotate\", \"watermark\"]\n",
    "stages_suffix = [\"cropped\", \"mirrorx\", \"mirrory\", \"bw\", \"rot\", \"watermarked\"]\n",
    "\n",
    "# Version 3 with scaledown in between\n",
    "stages_id = [\"crop\", \"scaledown\", \"mirror\", \"mirror_bw\", \"mirror_2rotate\", \"mirror_3rotate\"]\n",
    "stages_suffix = [\"cropped\", \"resized\", \"mirror\", \"mirror_bw\", \"mirror_rot_rot\", \"mirror_rot_rot_rot_watermarked\"]\n",
    "moviepy_op_count = [1, 1, 1, 2, 3, 5]"
   ]
  },
  {
   "cell_type": "code",
   "execution_count": 8,
   "metadata": {},
   "outputs": [
    {
     "name": "stdout",
     "output_type": "stream",
     "text": [
      "{\"lambdaARN\": \"arn:aws:lambda:us-west-2:075165449331:function:pipeline-crop-step-v2\", \"powerValues\": [1024, 2048, 4096, 8192], \"num\": 5, \"parallelInvocation\": \"true\", \"strategy\": \"cost\", \"payload\": {\"filename\": \"ElephantsDream\"}}\n",
      "{\"lambdaARN\": \"arn:aws:lambda:us-west-2:075165449331:function:pipeline-scaledown-step-v2\", \"powerValues\": [1024, 2048, 4096, 8192], \"num\": 5, \"parallelInvocation\": \"true\", \"strategy\": \"cost\", \"payload\": {\"filename\": \"ElephantsDream_cropped\"}}\n",
      "{\"lambdaARN\": \"arn:aws:lambda:us-west-2:075165449331:function:pipeline-mirror-step-v2\", \"powerValues\": [1024, 2048, 4096, 8192], \"num\": 5, \"parallelInvocation\": \"true\", \"strategy\": \"cost\", \"payload\": {\"filename\": \"ElephantsDream_cropped_resized\"}}\n",
      "{\"lambdaARN\": \"arn:aws:lambda:us-west-2:075165449331:function:pipeline-mirror_bw-step-v2\", \"powerValues\": [1024, 2048, 4096, 8192], \"num\": 5, \"parallelInvocation\": \"true\", \"strategy\": \"cost\", \"payload\": {\"filename\": \"ElephantsDream_cropped_resized_mirror\"}}\n",
      "{\"lambdaARN\": \"arn:aws:lambda:us-west-2:075165449331:function:pipeline-mirror_2rotate-step-v2\", \"powerValues\": [1024, 2048, 4096, 8192], \"num\": 5, \"parallelInvocation\": \"true\", \"strategy\": \"cost\", \"payload\": {\"filename\": \"ElephantsDream_cropped_resized_mirror_mirror_bw\"}}\n",
      "{\"lambdaARN\": \"arn:aws:lambda:us-west-2:075165449331:function:pipeline-mirror_3rotate-step-v2\", \"powerValues\": [1024, 2048, 4096, 8192], \"num\": 5, \"parallelInvocation\": \"true\", \"strategy\": \"cost\", \"payload\": {\"filename\": \"ElephantsDream_cropped_resized_mirror_mirror_bw_mirror_rot_rot\"}}\n"
     ]
    }
   ],
   "source": [
    "filename = \"ElephantsDream\"\n",
    "for stage, suffix in zip(stages_id, stages_suffix):\n",
    "    input = {}\n",
    "\n",
    "    input[\"lambdaARN\"] = \"arn:aws:lambda:us-west-2:075165449331:function:pipeline-{}-{}\".format(stage, version)\n",
    "    input[\"powerValues\"] = [1024,2048,4096,8192]\n",
    "    input[\"num\"] = 5\n",
    "    input[\"parallelInvocation\"] = \"true\"\n",
    "    input[\"strategy\"] = \"cost\"\n",
    "\n",
    "    input[\"payload\"] = {}\n",
    "    input[\"payload\"][\"filename\"] = filename\n",
    "\n",
    "    filename = filename + \"_\" + suffix\n",
    "\n",
    "    print(json.dumps(input))\n",
    "\n",
    "    with open('./../conf/{}.json'.format(stage), 'w') as f:\n",
    "        json.dump(input, f)\n",
    "\n",
    "    \n"
   ]
  },
  {
   "cell_type": "code",
   "execution_count": null,
   "metadata": {},
   "outputs": [],
   "source": []
  }
 ],
 "metadata": {
  "kernelspec": {
   "display_name": "Python 3.10.6 64-bit",
   "language": "python",
   "name": "python3"
  },
  "language_info": {
   "codemirror_mode": {
    "name": "ipython",
    "version": 3
   },
   "file_extension": ".py",
   "mimetype": "text/x-python",
   "name": "python",
   "nbconvert_exporter": "python",
   "pygments_lexer": "ipython3",
   "version": "3.10.6"
  },
  "orig_nbformat": 4,
  "vscode": {
   "interpreter": {
    "hash": "31f2aee4e71d21fbe5cf8b01ff0e069b9275f58929596ceb00d14d90e3e16cd6"
   }
  }
 },
 "nbformat": 4,
 "nbformat_minor": 2
}
