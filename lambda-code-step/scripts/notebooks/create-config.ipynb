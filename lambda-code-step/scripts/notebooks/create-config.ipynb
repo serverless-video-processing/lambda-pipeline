{
 "cells": [
  {
   "cell_type": "code",
   "execution_count": 1,
   "metadata": {},
   "outputs": [],
   "source": [
    "import json"
   ]
  },
  {
   "cell_type": "code",
   "execution_count": 2,
   "metadata": {},
   "outputs": [],
   "source": [
    "# Pipeline with Scaledown\n",
    "stages_id = [\"scaledown\", \"crop\", \"mirrorx\", \"mirrory\", \"bw\", \"rotate\", \"watermark\"]\n",
    "stages_suffix = [\"resized\", \"cropped\", \"mirrorx\", \"mirrory\", \"bw\", \"rot\", \"watermarked\"]\n",
    "\n",
    "# Pipeline without Scaledown\n",
    "stages_id = [\"crop\", \"mirrorx\", \"mirrory\", \"bw\", \"rotate\", \"watermark\"]\n",
    "stages_suffix = [\"cropped\", \"mirrorx\", \"mirrory\", \"bw\", \"rot\", \"watermarked\"]"
   ]
  },
  {
   "cell_type": "code",
   "execution_count": 3,
   "metadata": {},
   "outputs": [
    {
     "name": "stdout",
     "output_type": "stream",
     "text": [
      "{\"lambdaARN\": \"arn:aws:lambda:us-west-2:075165449331:function:pipeline-crop-step\", \"powerValues\": [1024, 2048, 4096, 8192], \"num\": 5, \"parallelInvocation\": \"false\", \"strategy\": \"cost\", \"payload\": {\"filename\": \"ElephantsDream\"}}\n",
      "{\"lambdaARN\": \"arn:aws:lambda:us-west-2:075165449331:function:pipeline-mirrorx-step\", \"powerValues\": [1024, 2048, 4096, 8192], \"num\": 5, \"parallelInvocation\": \"false\", \"strategy\": \"cost\", \"payload\": {\"filename\": \"ElephantsDream_cropped\"}}\n",
      "{\"lambdaARN\": \"arn:aws:lambda:us-west-2:075165449331:function:pipeline-mirrory-step\", \"powerValues\": [1024, 2048, 4096, 8192], \"num\": 5, \"parallelInvocation\": \"false\", \"strategy\": \"cost\", \"payload\": {\"filename\": \"ElephantsDream_cropped_mirrorx\"}}\n",
      "{\"lambdaARN\": \"arn:aws:lambda:us-west-2:075165449331:function:pipeline-bw-step\", \"powerValues\": [1024, 2048, 4096, 8192], \"num\": 5, \"parallelInvocation\": \"false\", \"strategy\": \"cost\", \"payload\": {\"filename\": \"ElephantsDream_cropped_mirrorx_mirrory\"}}\n",
      "{\"lambdaARN\": \"arn:aws:lambda:us-west-2:075165449331:function:pipeline-rotate-step\", \"powerValues\": [1024, 2048, 4096, 8192], \"num\": 5, \"parallelInvocation\": \"false\", \"strategy\": \"cost\", \"payload\": {\"filename\": \"ElephantsDream_cropped_mirrorx_mirrory_bw\"}}\n",
      "{\"lambdaARN\": \"arn:aws:lambda:us-west-2:075165449331:function:pipeline-watermark-step\", \"powerValues\": [1024, 2048, 4096, 8192], \"num\": 5, \"parallelInvocation\": \"false\", \"strategy\": \"cost\", \"payload\": {\"filename\": \"ElephantsDream_cropped_mirrorx_mirrory_bw_rot\"}}\n"
     ]
    }
   ],
   "source": [
    "filename = \"ElephantsDream\"\n",
    "for stage, suffix in zip(stages_id, stages_suffix):\n",
    "    input = {}\n",
    "\n",
    "    input[\"lambdaARN\"] = \"arn:aws:lambda:us-west-2:075165449331:function:pipeline-{}-step\".format(stage)\n",
    "    input[\"powerValues\"] = [1024,2048,4096,8192]\n",
    "    input[\"num\"] = 5\n",
    "    input[\"parallelInvocation\"] = \"false\"\n",
    "    input[\"strategy\"] = \"cost\"\n",
    "\n",
    "    input[\"payload\"] = {}\n",
    "    input[\"payload\"][\"filename\"] = filename\n",
    "\n",
    "    filename = filename + \"_\" + suffix\n",
    "\n",
    "    print(json.dumps(input))\n",
    "\n",
    "    with open('./../conf/{}.json'.format(stage), 'w') as f:\n",
    "        json.dump(input, f)\n",
    "\n",
    "    \n"
   ]
  },
  {
   "cell_type": "code",
   "execution_count": null,
   "metadata": {},
   "outputs": [],
   "source": []
  }
 ],
 "metadata": {
  "kernelspec": {
   "display_name": "Python 3.10.6 64-bit",
   "language": "python",
   "name": "python3"
  },
  "language_info": {
   "codemirror_mode": {
    "name": "ipython",
    "version": 3
   },
   "file_extension": ".py",
   "mimetype": "text/x-python",
   "name": "python",
   "nbconvert_exporter": "python",
   "pygments_lexer": "ipython3",
   "version": "3.10.6"
  },
  "orig_nbformat": 4,
  "vscode": {
   "interpreter": {
    "hash": "31f2aee4e71d21fbe5cf8b01ff0e069b9275f58929596ceb00d14d90e3e16cd6"
   }
  }
 },
 "nbformat": 4,
 "nbformat_minor": 2
}
