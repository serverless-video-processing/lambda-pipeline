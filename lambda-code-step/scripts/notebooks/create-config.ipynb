{
 "cells": [
  {
   "cell_type": "code",
   "execution_count": 1,
   "metadata": {},
   "outputs": [],
   "source": [
    "import json"
   ]
  },
  {
   "cell_type": "code",
   "execution_count": 6,
   "metadata": {},
   "outputs": [],
   "source": [
    "# Pipeline with Scaledown\n",
    "stages_id = [\"scaledown\", \"crop\", \"mirrorx\", \"mirrory\", \"bw\", \"rotate\", \"watermark\"]\n",
    "stages_suffix = [\"_resized\", \"_cropped\", \"_mirrorx\", \"_mirrory\", \"_bw\", \"_rot\", \"_watermarked\"]\n",
    "\n",
    "# Pipeline without Scaledown\n",
    "stages_id = [\"crop\", \"mirrorx\", \"mirrory\", \"bw\", \"rotate\", \"watermark\"]\n",
    "stages_suffix = [\"_cropped\", \"_mirrorx\", \"_mirrory\", \"_bw\", \"_rot\", \"_watermarked\"]\n",
    "\n",
    "# Version 3 with scaledown in between\n",
    "version=\"step-v2\"\n",
    "stages_id = [\"crop\", \"scaledown\", \"mirror\", \"mirror_bw\", \"mirror_2rotate\", \"mirror_3rotate\"]\n",
    "stages_suffix = [\"_cropped\", \"_resized\", \"_mirror\", \"_mirror_bw\", \"_mirror_rot_rot\", \"_mirror_rot_rot_rot_watermarked\"]\n",
    "moviepy_op_count = [1, 1, 1, 2, 3, 5]\n",
    "\n",
    "\n",
    "# Version step v3\n",
    "\n",
    "# stages_helper = [\"crop\", \"scaledown(input for next)\", \"mirror\", \"mirror_bw\", \"mirror_bw_rotate\", \"mirror_bw_rotate_watermark\"]\n",
    "version=\"step-v3\"\n",
    "stages_id = [\"crop\", \"scaledown\", \"mirror\", \"mirror_bw\", \"mirror_bw_rotate\", \"mirror_bw_rotate_watermark\"]\n",
    "stages_suffix = [\"_cropped\", \"_resized\", \"\", \"\", \"\", \"\"]\n",
    "powerValues = [2048,4096,8192]\n",
    "\n",
    "# less-memory version\n",
    "version=\"step-v3-512mb-memory\"\n",
    "stages_id = [\"crop\", \"scaledown\", \"mirror\", \"mirror_bw\", \"mirror_bw_rotate\", \"mirror_bw_rotate_watermark\"]\n",
    "stages_suffix = [\"_cropped\", \"_resized\", \"\", \"\", \"\", \"\"]\n",
    "powerValues = [512]\n",
    "\n",
    "# multiple-memory version crop->scaledown->mirror_bw->rotate->watermark\n",
    "version=\"step-v3\"\n",
    "stages_id = [\"crop\", \"scaledown\", \"mirror\", \"mirror_bw\", \"rotate\", \"watermark\", \"mirror_bw_rotate\", \"mirror_bw_rotate_watermark\"]\n",
    "stages_suffix = [\"_cropped\", \"_resized\", \"\", \"\", \"\", \"\", \"\", \"\"]\n",
    "powerValues = [1024, 2048, 4096, 8192]\n",
    "\n",
    "# multiple-memory version: crop->scaledown->(mirror,bw,rotate,watermark)\n",
    "version=\"step-v3\"\n",
    "stages_id = [\"crop\", \"scaledown\", \"mirror\", \"mirror_bw_rotate_watermark\"]\n",
    "stages_suffix = [\"_cropped\", \"_resized\", \"\", \"\"]\n",
    "powerValues = [1024, 2048, 4096, 8192]\n"
   ]
  },
  {
   "cell_type": "code",
   "execution_count": 7,
   "metadata": {},
   "outputs": [
    {
     "name": "stdout",
     "output_type": "stream",
     "text": [
      "{\"lambdaARN\": \"arn:aws:lambda:us-west-2:075165449331:function:pipeline-crop-step-v3\", \"powerValues\": [1024, 2048, 4096, 8192], \"num\": 5, \"parallelInvocation\": \"true\", \"strategy\": \"cost\", \"payload\": {\"filename\": \"ElephantsDream\"}}\n",
      "{\"lambdaARN\": \"arn:aws:lambda:us-west-2:075165449331:function:pipeline-scaledown-step-v3\", \"powerValues\": [1024, 2048, 4096, 8192], \"num\": 5, \"parallelInvocation\": \"true\", \"strategy\": \"cost\", \"payload\": {\"filename\": \"ElephantsDream_cropped\"}}\n",
      "{\"lambdaARN\": \"arn:aws:lambda:us-west-2:075165449331:function:pipeline-mirror-step-v3\", \"powerValues\": [1024, 2048, 4096, 8192], \"num\": 5, \"parallelInvocation\": \"true\", \"strategy\": \"cost\", \"payload\": {\"filename\": \"ElephantsDream_cropped_resized\"}}\n",
      "{\"lambdaARN\": \"arn:aws:lambda:us-west-2:075165449331:function:pipeline-mirror_bw-step-v3\", \"powerValues\": [1024, 2048, 4096, 8192], \"num\": 5, \"parallelInvocation\": \"true\", \"strategy\": \"cost\", \"payload\": {\"filename\": \"ElephantsDream_cropped_resized\"}}\n",
      "{\"lambdaARN\": \"arn:aws:lambda:us-west-2:075165449331:function:pipeline-rotate-step-v3\", \"powerValues\": [1024, 2048, 4096, 8192], \"num\": 5, \"parallelInvocation\": \"true\", \"strategy\": \"cost\", \"payload\": {\"filename\": \"ElephantsDream_cropped_resized\"}}\n",
      "{\"lambdaARN\": \"arn:aws:lambda:us-west-2:075165449331:function:pipeline-watermark-step-v3\", \"powerValues\": [1024, 2048, 4096, 8192], \"num\": 5, \"parallelInvocation\": \"true\", \"strategy\": \"cost\", \"payload\": {\"filename\": \"ElephantsDream_cropped_resized\"}}\n",
      "{\"lambdaARN\": \"arn:aws:lambda:us-west-2:075165449331:function:pipeline-mirror_bw_rotate-step-v3\", \"powerValues\": [1024, 2048, 4096, 8192], \"num\": 5, \"parallelInvocation\": \"true\", \"strategy\": \"cost\", \"payload\": {\"filename\": \"ElephantsDream_cropped_resized\"}}\n",
      "{\"lambdaARN\": \"arn:aws:lambda:us-west-2:075165449331:function:pipeline-mirror_bw_rotate_watermark-step-v3\", \"powerValues\": [1024, 2048, 4096, 8192], \"num\": 5, \"parallelInvocation\": \"true\", \"strategy\": \"cost\", \"payload\": {\"filename\": \"ElephantsDream_cropped_resized\"}}\n"
     ]
    }
   ],
   "source": [
    "filename = \"ElephantsDream\"\n",
    "for stage, suffix in zip(stages_id, stages_suffix):\n",
    "    input = {}\n",
    "\n",
    "    input[\"lambdaARN\"] = \"arn:aws:lambda:us-west-2:075165449331:function:pipeline-{}-{}\".format(stage, version)\n",
    "    input[\"powerValues\"] = powerValues\n",
    "    input[\"num\"] = 5\n",
    "    input[\"parallelInvocation\"] = \"true\"\n",
    "    input[\"strategy\"] = \"cost\"\n",
    "\n",
    "    input[\"payload\"] = {}\n",
    "    input[\"payload\"][\"filename\"] = filename\n",
    "\n",
    "    filename = filename + suffix\n",
    "\n",
    "    print(json.dumps(input))\n",
    "\n",
    "    with open('./../conf/multi-mem/{}.json'.format(stage), 'w') as f:\n",
    "        json.dump(input, f)\n",
    "\n",
    "    \n"
   ]
  },
  {
   "cell_type": "code",
   "execution_count": null,
   "metadata": {},
   "outputs": [],
   "source": []
  }
 ],
 "metadata": {
  "kernelspec": {
   "display_name": "Python 3.10.6 64-bit",
   "language": "python",
   "name": "python3"
  },
  "language_info": {
   "codemirror_mode": {
    "name": "ipython",
    "version": 3
   },
   "file_extension": ".py",
   "mimetype": "text/x-python",
   "name": "python",
   "nbconvert_exporter": "python",
   "pygments_lexer": "ipython3",
   "version": "3.8.9"
  },
  "orig_nbformat": 4,
  "vscode": {
   "interpreter": {
    "hash": "31f2aee4e71d21fbe5cf8b01ff0e069b9275f58929596ceb00d14d90e3e16cd6"
   }
  }
 },
 "nbformat": 4,
 "nbformat_minor": 2
}
