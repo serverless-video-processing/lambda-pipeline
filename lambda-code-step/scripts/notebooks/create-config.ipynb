{
 "cells": [
  {
   "cell_type": "code",
   "execution_count": 12,
   "metadata": {},
   "outputs": [
    {
     "ename": "ModuleNotFoundError",
     "evalue": "No module named 'matplotlib'",
     "output_type": "error",
     "traceback": [
      "\u001b[0;31m---------------------------------------------------------------------------\u001b[0m",
      "\u001b[0;31mModuleNotFoundError\u001b[0m                       Traceback (most recent call last)",
      "Cell \u001b[0;32mIn[12], line 2\u001b[0m\n\u001b[1;32m      1\u001b[0m \u001b[39mimport\u001b[39;00m \u001b[39mjson\u001b[39;00m\n\u001b[0;32m----> 2\u001b[0m \u001b[39mimport\u001b[39;00m \u001b[39mmatplotlib\u001b[39;00m\n",
      "\u001b[0;31mModuleNotFoundError\u001b[0m: No module named 'matplotlib'"
     ]
    }
   ],
   "source": [
    "import json\n",
    "import matplotlib"
   ]
  },
  {
   "cell_type": "code",
   "execution_count": 13,
   "metadata": {},
   "outputs": [
    {
     "name": "stdout",
     "output_type": "stream",
     "text": [
      "Requirement already satisfied: matplotlib in /Users/shahmohit96/opt/anaconda3/lib/python3.8/site-packages (3.3.4)\n",
      "Requirement already satisfied: kiwisolver>=1.0.1 in /Users/shahmohit96/opt/anaconda3/lib/python3.8/site-packages (from matplotlib) (1.3.1)\n",
      "Requirement already satisfied: python-dateutil>=2.1 in /Users/shahmohit96/opt/anaconda3/lib/python3.8/site-packages (from matplotlib) (2.8.1)\n",
      "Requirement already satisfied: pillow>=6.2.0 in /Users/shahmohit96/opt/anaconda3/lib/python3.8/site-packages (from matplotlib) (8.2.0)\n",
      "Requirement already satisfied: numpy>=1.15 in /Users/shahmohit96/opt/anaconda3/lib/python3.8/site-packages (from matplotlib) (1.23.4)\n",
      "Requirement already satisfied: pyparsing!=2.0.4,!=2.1.2,!=2.1.6,>=2.0.3 in /Users/shahmohit96/opt/anaconda3/lib/python3.8/site-packages (from matplotlib) (2.4.7)\n",
      "Requirement already satisfied: cycler>=0.10 in /Users/shahmohit96/opt/anaconda3/lib/python3.8/site-packages (from matplotlib) (0.10.0)\n",
      "Requirement already satisfied: six in /Users/shahmohit96/opt/anaconda3/lib/python3.8/site-packages (from cycler>=0.10->matplotlib) (1.15.0)\n"
     ]
    }
   ],
   "source": [
    "!pip install matplotlib"
   ]
  },
  {
   "cell_type": "code",
   "execution_count": 21,
   "metadata": {},
   "outputs": [],
   "source": [
    "# Pipeline with Scaledown\n",
    "stages_id = [\"scaledown\", \"crop\", \"mirrorx\", \"mirrory\", \"bw\", \"rotate\", \"watermark\"]\n",
    "stages_suffix = [\"_resized\", \"_cropped\", \"_mirrorx\", \"_mirrory\", \"_bw\", \"_rot\", \"_watermarked\"]\n",
    "\n",
    "# Pipeline without Scaledown\n",
    "stages_id = [\"crop\", \"mirrorx\", \"mirrory\", \"bw\", \"rotate\", \"watermark\"]\n",
    "stages_suffix = [\"_cropped\", \"_mirrorx\", \"_mirrory\", \"_bw\", \"_rot\", \"_watermarked\"]\n",
    "\n",
    "# Version 3 with scaledown in between\n",
    "version=\"step-v2\"\n",
    "stages_id = [\"crop\", \"scaledown\", \"mirror\", \"mirror_bw\", \"mirror_2rotate\", \"mirror_3rotate\"]\n",
    "stages_suffix = [\"_cropped\", \"_resized\", \"_mirror\", \"_mirror_bw\", \"_mirror_rot_rot\", \"_mirror_rot_rot_rot_watermarked\"]\n",
    "moviepy_op_count = [1, 1, 1, 2, 3, 5]\n",
    "\n",
    "\n",
    "# Version step v3\n",
    "\n",
    "# stages_helper = [\"crop\", \"scaledown(input for next)\", \"mirror\", \"mirror_bw\", \"mirror_bw_rotate\", \"mirror_bw_rotate_watermark\"]\n",
    "version=\"step-v3\"\n",
    "stages_id = [\"crop\", \"scaledown\", \"mirror\", \"mirror_bw\", \"mirror_bw_rotate\", \"mirror_bw_rotate_watermark\"]\n",
    "stages_suffix = [\"_cropped\", \"_resized\", \"\", \"\", \"\", \"\"]\n",
    "powerValues = [2048,4096,8192]\n",
    "\n",
    "# less-memory version\n",
    "version=\"step-v3-512mb-memory\"\n",
    "stages_id = [\"crop\", \"scaledown\", \"mirror\", \"mirror_bw\", \"mirror_bw_rotate\", \"mirror_bw_rotate_watermark\"]\n",
    "stages_suffix = [\"_cropped\", \"_resized\", \"\", \"\", \"\", \"\"]\n",
    "powerValues = [512]\n",
    "\n",
    "# multiple-memory version crop->scaledown->mirror_bw->rotate->watermark\n",
    "version=\"step-v3\"\n",
    "stages_id = [\"crop\", \"scaledown\", \"mirror\", \"bw\", \"rotate\", \"watermark\"]\n",
    "stages_suffix = [\"_cropped\", \"_resized\", \"_mirror\", \"_bw\", \"_rot\", \"_watermarked\"]\n",
    "powerValues = [512, 1024, 2048, 4096]\n",
    "\n",
    "# multiple-memory version: crop->scaledown->(mirror,bw,rotate,watermark)\n",
    "# version=\"step-v3\"\n",
    "# stages_id = [\"crop\", \"scaledown\", \"mirror_bw_rotate\", \"mirror_bw_rotate_watermark\"]\n",
    "# stages_suffix = [\"_cropped\", \"_resized\", \"\", \"\"]\n",
    "# powerValues = [1024, 2048, 4096, 8192]\n",
    "\n",
    "# version=\"step-noS3\"\n",
    "# stages_id = [\"app\"]\n",
    "# stages_suffix = [\"\"]\n",
    "# powerValues = [2048, 4096, 8192]\n",
    "\n",
    "# version=\"step-v3\"\n",
    "# stages_id = [\"crop\", \"scaledown\", \"mirror\", \"mirror_bw\", \"rotate\", \"watermark\"]\n",
    "# stages_suffix = [\"_cropped\", \"_resized\", \"_mirror\", \"_bw\", \"_rot\", \"_watermarked\"]\n",
    "# powerValues = [512]\n"
   ]
  },
  {
   "cell_type": "code",
   "execution_count": 22,
   "metadata": {},
   "outputs": [
    {
     "name": "stdout",
     "output_type": "stream",
     "text": [
      "{\"lambdaARN\": \"arn:aws:lambda:us-west-2:075165449331:function:pipeline-crop-step-v3\", \"powerValues\": [512, 1024, 2048, 4096], \"num\": 30, \"parallelInvocation\": \"true\", \"strategy\": \"cost\", \"payload\": {\"filename\": \"ElephantsDream\"}}\n",
      "{\"lambdaARN\": \"arn:aws:lambda:us-west-2:075165449331:function:pipeline-scaledown-step-v3\", \"powerValues\": [512, 1024, 2048, 4096], \"num\": 30, \"parallelInvocation\": \"true\", \"strategy\": \"cost\", \"payload\": {\"filename\": \"ElephantsDream_cropped\"}}\n",
      "{\"lambdaARN\": \"arn:aws:lambda:us-west-2:075165449331:function:pipeline-mirror-step-v3\", \"powerValues\": [512, 1024, 2048, 4096], \"num\": 30, \"parallelInvocation\": \"true\", \"strategy\": \"cost\", \"payload\": {\"filename\": \"ElephantsDream_cropped_resized\"}}\n",
      "{\"lambdaARN\": \"arn:aws:lambda:us-west-2:075165449331:function:pipeline-bw-step-v3\", \"powerValues\": [512, 1024, 2048, 4096], \"num\": 30, \"parallelInvocation\": \"true\", \"strategy\": \"cost\", \"payload\": {\"filename\": \"ElephantsDream_cropped_resized_mirror\"}}\n",
      "{\"lambdaARN\": \"arn:aws:lambda:us-west-2:075165449331:function:pipeline-rotate-step-v3\", \"powerValues\": [512, 1024, 2048, 4096], \"num\": 30, \"parallelInvocation\": \"true\", \"strategy\": \"cost\", \"payload\": {\"filename\": \"ElephantsDream_cropped_resized_mirror_bw\"}}\n",
      "{\"lambdaARN\": \"arn:aws:lambda:us-west-2:075165449331:function:pipeline-watermark-step-v3\", \"powerValues\": [512, 1024, 2048, 4096], \"num\": 30, \"parallelInvocation\": \"true\", \"strategy\": \"cost\", \"payload\": {\"filename\": \"ElephantsDream_cropped_resized_mirror_bw_rot\"}}\n"
     ]
    }
   ],
   "source": [
    "filename = \"ElephantsDream\"\n",
    "for stage, suffix in zip(stages_id, stages_suffix):\n",
    "    input = {}\n",
    "\n",
    "    input[\"lambdaARN\"] = \"arn:aws:lambda:us-west-2:075165449331:function:pipeline-{}-{}\".format(stage, version)\n",
    "    input[\"powerValues\"] = powerValues\n",
    "    input[\"num\"] = 30\n",
    "    input[\"parallelInvocation\"] = \"true\"\n",
    "    input[\"strategy\"] = \"cost\"\n",
    "\n",
    "    input[\"payload\"] = {}\n",
    "    input[\"payload\"][\"filename\"] = filename\n",
    "\n",
    "    filename = filename + suffix\n",
    "\n",
    "    print(json.dumps(input))\n",
    "\n",
    "    with open('./../conf/multi-mem/{}.json'.format(stage), 'w') as f:\n",
    "        json.dump(input, f)\n",
    "\n",
    "    \n"
   ]
  },
  {
   "cell_type": "code",
   "execution_count": 43,
   "metadata": {},
   "outputs": [],
   "source": [
    "total_lambda_cost = 0\n",
    "stages_id = [\"crop\", \"scaledown\", \"mirror\", \"mirror_bw\", \"rotate\", \"watermark\"]\n",
    "powerValues = [1024,2048,4096,8192]\n",
    "stats = {1024:0, 2048:0, 4096:0, 8192:0}\n",
    "for stage in stages_id: \n",
    "    f = open('./../output/step-v4-multi-memory_2/{}.json'.format(stage), 'r')\n",
    "    data = json.load(f)\n",
    "    for stat in data['stats']:\n",
    "        stats[stat['value']] += stat['averagePrice']\n",
    "    f.close()"
   ]
  },
  {
   "cell_type": "code",
   "execution_count": 44,
   "metadata": {},
   "outputs": [
    {
     "data": {
      "text/plain": [
       "{1024: 0.014253472800000002,\n",
       " 2048: 0.013942555200000002,\n",
       " 4096: 0.0155385216,\n",
       " 8192: 0.0217444416}"
      ]
     },
     "execution_count": 44,
     "metadata": {},
     "output_type": "execute_result"
    }
   ],
   "source": [
    "stats"
   ]
  },
  {
   "cell_type": "code",
   "execution_count": null,
   "metadata": {},
   "outputs": [],
   "source": [
    "total_lambda_cost = 0\n",
    "stages_id = [\"app\"]\n",
    "powerValues = [1024,2048,4096]\n",
    "stats = {1024:0, 2048:0, 4096:0}\n",
    "for stage in stages_id: \n",
    "    f = open('./../output/step-v4-512mb-mem/{}.json'.format(stage), 'r')\n",
    "    data = json.load(f)\n",
    "    for stat in data['stats']:\n",
    "        stats[stat['value']] += stat['averagePrice']\n",
    "    f.close()"
   ]
  },
  {
   "cell_type": "code",
   "execution_count": 41,
   "metadata": {},
   "outputs": [],
   "source": [
    "total_lambda_cost = 0\n",
    "stages_id = [\"crop\", \"scaledown\", \"mirror\", \"mirror_bw\", \"rotate\", \"watermark\"]\n",
    "powerValues = [1024,2048,4096,8192]\n",
    "stats = {512:0}\n",
    "for stage in stages_id: \n",
    "    f = open('./../output/step-v4-512mb-mem/{}.json'.format(stage), 'r')\n",
    "    data = json.load(f)\n",
    "    for stat in data['stats']:\n",
    "        stats[stat['value']] += stat['averagePrice']\n",
    "    f.close()"
   ]
  },
  {
   "cell_type": "code",
   "execution_count": 42,
   "metadata": {},
   "outputs": [
    {
     "data": {
      "text/plain": [
       "{512: 0.014506195200000002}"
      ]
     },
     "execution_count": 42,
     "metadata": {},
     "output_type": "execute_result"
    }
   ],
   "source": [
    "stats"
   ]
  },
  {
   "cell_type": "code",
   "execution_count": null,
   "metadata": {},
   "outputs": [],
   "source": [
    "total_lambda_cost = 0\n",
    "stages_id = [\"crop\", \"scaledown\", \"mirror\", \"mirror_bw\", \"rotate\", \"watermark\"]\n",
    "powerValues = [1024,2048,4096,8192]\n",
    "stats = {512:0}\n",
    "for stage in stages_id: \n",
    "    f = open('./../output/step-v4-multi-memory_1_aggregatedSteps/{}.json'.format(stage), 'r')\n",
    "    data = json.load(f)\n",
    "    for stat in data['stats']:\n",
    "        stats[stat['value']] += stat['averagePrice']\n",
    "    f.close()"
   ]
  },
  {
   "cell_type": "code",
   "execution_count": 47,
   "metadata": {},
   "outputs": [],
   "source": [
    "total_lambda_cost = 0\n",
    "stages_id = [\"crop\", \"scaledown\", \"mirror_bw_rotate_watermark\"]\n",
    "powerValues = [1024,2048,4096,8192]\n",
    "stats = {1024:0, 2048:0, 4096:0, 8192:0}\n",
    "for stage in stages_id:\n",
    "    f = open('./../output/step-v4-multi-memory_1_aggregatedSteps/{}.json'.format(stage), 'r')\n",
    "    data = json.load(f)\n",
    "    for stat in data['stats']:\n",
    "        stats[stat['value']] += stat['averagePrice']\n",
    "    f.close()"
   ]
  },
  {
   "cell_type": "code",
   "execution_count": 48,
   "metadata": {},
   "outputs": [
    {
     "data": {
      "text/plain": [
       "{1024: 0.012926172000000003,\n",
       " 2048: 0.012779793600000002,\n",
       " 4096: 0.014063280000000001,\n",
       " 8192: 0.0200088}"
      ]
     },
     "execution_count": 48,
     "metadata": {},
     "output_type": "execute_result"
    }
   ],
   "source": [
    "stats"
   ]
  }
 ],
 "metadata": {
  "kernelspec": {
   "display_name": "Python 3.8.15 64-bit",
   "language": "python",
   "name": "python3"
  },
  "language_info": {
   "codemirror_mode": {
    "name": "ipython",
    "version": 3
   },
   "file_extension": ".py",
   "mimetype": "text/x-python",
   "name": "python",
   "nbconvert_exporter": "python",
   "pygments_lexer": "ipython3",
   "version": "3.8.15"
  },
  "orig_nbformat": 4,
  "vscode": {
   "interpreter": {
    "hash": "5b6e8fba36db23bc4d54e0302cd75fdd75c29d9edcbab68d6cfc74e7e4b30305"
   }
  }
 },
 "nbformat": 4,
 "nbformat_minor": 2
}
